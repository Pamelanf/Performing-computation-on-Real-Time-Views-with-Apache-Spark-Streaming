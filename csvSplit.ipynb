{
 "cells": [
  {
   "cell_type": "markdown",
   "metadata": {},
   "source": [
    "#    LOADING AND ANALYZING DATA & SPLITTING .CSV FILE"
   ]
  },
  {
   "cell_type": "markdown",
   "metadata": {},
   "source": [
    "# 1) Loading and analyzing data"
   ]
  },
  {
   "cell_type": "code",
   "execution_count": 11,
   "metadata": {},
   "outputs": [
    {
     "data": {
      "text/plain": [
       "pyspark.rdd.RDD"
      ]
     },
     "execution_count": 11,
     "metadata": {},
     "output_type": "execute_result"
    },
    {
     "data": {
      "text/plain": [
       "2954273"
      ]
     },
     "execution_count": 11,
     "metadata": {},
     "output_type": "execute_result"
    },
    {
     "data": {
      "text/plain": [
       "['\"date\",\"time\",\"size\",\"r_version\",\"r_arch\",\"r_os\",\"package\",\"version\",\"country\",\"ip_id\"',\n",
       " '\"2018-11-20\",\"05:44:23\",2189562,\"3.5.1\",\"x86_64\",\"linux-gnu\",\"cli\",\"1.0.1\",\"US\",1',\n",
       " '\"2018-11-20\",\"05:44:26\",1170009,\"3.3.3\",\"x86_64\",\"linux-gnu\",\"flexmix\",\"2.3-14\",\"US\",2',\n",
       " '\"2018-11-20\",\"05:44:35\",17934,NA,NA,NA,\"pRF\",\"1.0\",\"US\",3',\n",
       " '\"2018-11-20\",\"05:44:40\",259048,\"3.5.1\",\"x86_64\",\"darwin15.6.0\",\"pbkrtest\",\"0.4-7\",\"HK\",4']"
      ]
     },
     "execution_count": 11,
     "metadata": {},
     "output_type": "execute_result"
    },
    {
     "data": {
      "text/plain": [
       "[['\"date\"',\n",
       "  '\"time\"',\n",
       "  '\"size\"',\n",
       "  '\"r_version\"',\n",
       "  '\"r_arch\"',\n",
       "  '\"r_os\"',\n",
       "  '\"package\"',\n",
       "  '\"version\"',\n",
       "  '\"country\"',\n",
       "  '\"ip_id\"'],\n",
       " ['\"2018-11-20\"',\n",
       "  '\"05:44:23\"',\n",
       "  '2189562',\n",
       "  '\"3.5.1\"',\n",
       "  '\"x86_64\"',\n",
       "  '\"linux-gnu\"',\n",
       "  '\"cli\"',\n",
       "  '\"1.0.1\"',\n",
       "  '\"US\"',\n",
       "  '1'],\n",
       " ['\"2018-11-20\"',\n",
       "  '\"05:44:26\"',\n",
       "  '1170009',\n",
       "  '\"3.3.3\"',\n",
       "  '\"x86_64\"',\n",
       "  '\"linux-gnu\"',\n",
       "  '\"flexmix\"',\n",
       "  '\"2.3-14\"',\n",
       "  '\"US\"',\n",
       "  '2'],\n",
       " ['\"2018-11-20\"',\n",
       "  '\"05:44:35\"',\n",
       "  '17934',\n",
       "  'NA',\n",
       "  'NA',\n",
       "  'NA',\n",
       "  '\"pRF\"',\n",
       "  '\"1.0\"',\n",
       "  '\"US\"',\n",
       "  '3'],\n",
       " ['\"2018-11-20\"',\n",
       "  '\"05:44:40\"',\n",
       "  '259048',\n",
       "  '\"3.5.1\"',\n",
       "  '\"x86_64\"',\n",
       "  '\"darwin15.6.0\"',\n",
       "  '\"pbkrtest\"',\n",
       "  '\"0.4-7\"',\n",
       "  '\"HK\"',\n",
       "  '4']]"
      ]
     },
     "execution_count": 11,
     "metadata": {},
     "output_type": "execute_result"
    },
    {
     "data": {
      "text/plain": [
       "[[' date ',\n",
       "  ' time ',\n",
       "  ' size ',\n",
       "  ' r_version ',\n",
       "  ' r_arch ',\n",
       "  ' r_os ',\n",
       "  ' package ',\n",
       "  ' version ',\n",
       "  ' country ',\n",
       "  ' ip_id '],\n",
       " [' 2018-11-20 ',\n",
       "  ' 05:44:23 ',\n",
       "  '2189562',\n",
       "  ' 3.5.1 ',\n",
       "  ' x86_64 ',\n",
       "  ' linux-gnu ',\n",
       "  ' cli ',\n",
       "  ' 1.0.1 ',\n",
       "  ' US ',\n",
       "  '1'],\n",
       " [' 2018-11-20 ',\n",
       "  ' 05:44:26 ',\n",
       "  '1170009',\n",
       "  ' 3.3.3 ',\n",
       "  ' x86_64 ',\n",
       "  ' linux-gnu ',\n",
       "  ' flexmix ',\n",
       "  ' 2.3-14 ',\n",
       "  ' US ',\n",
       "  '2'],\n",
       " [' 2018-11-20 ',\n",
       "  ' 05:44:35 ',\n",
       "  '17934',\n",
       "  'NA',\n",
       "  'NA',\n",
       "  'NA',\n",
       "  ' pRF ',\n",
       "  ' 1.0 ',\n",
       "  ' US ',\n",
       "  '3'],\n",
       " [' 2018-11-20 ',\n",
       "  ' 05:44:40 ',\n",
       "  '259048',\n",
       "  ' 3.5.1 ',\n",
       "  ' x86_64 ',\n",
       "  ' darwin15.6.0 ',\n",
       "  ' pbkrtest ',\n",
       "  ' 0.4-7 ',\n",
       "  ' HK ',\n",
       "  '4']]"
      ]
     },
     "execution_count": 11,
     "metadata": {},
     "output_type": "execute_result"
    }
   ],
   "source": [
    "from IPython.core.interactiveshell import InteractiveShell\n",
    "InteractiveShell.ast_node_interactivity = \"all\"\n",
    "\n",
    "downloads_RDD = sc.textFile(\"file:///usr/local/hadoop/2018-11-20.csv\")\n",
    "\n",
    "type (downloads_RDD)\n",
    "\n",
    "downloads_RDD.count()\n",
    "\n",
    "downloads_RDD.take(5)\n",
    "\n",
    "downloads_RDD = downloads_RDD.map(lambda x: x.split(','))\n",
    "\n",
    "downloads_RDD.take(5)\n",
    "\n",
    "def remove_quotation(x):\n",
    "    return ([xx.replace('\"',' ') for xx in x])\n",
    "\n",
    "\n",
    "downloads_RDD = downloads_RDD.map(remove_quotation)\n",
    "\n",
    "downloads_RDD.take(5)"
   ]
  },
  {
   "cell_type": "markdown",
   "metadata": {},
   "source": [
    "# 2) Splitting .CSV File"
   ]
  },
  {
   "cell_type": "code",
   "execution_count": 16,
   "metadata": {},
   "outputs": [
    {
     "data": {
      "text/plain": [
       "'/home/hduser/Desktop/SPARK CASS/PORTFOLIO'"
      ]
     },
     "execution_count": 16,
     "metadata": {},
     "output_type": "execute_result"
    }
   ],
   "source": [
    "import os\n",
    "os.getcwd()"
   ]
  },
  {
   "cell_type": "code",
   "execution_count": 18,
   "metadata": {},
   "outputs": [
    {
     "ename": "KeyboardInterrupt",
     "evalue": "",
     "output_type": "error",
     "traceback": [
      "\u001b[0;31m---------------------------------------------------------------------------\u001b[0m",
      "\u001b[0;31mKeyboardInterrupt\u001b[0m                         Traceback (most recent call last)",
      "\u001b[0;32m<ipython-input-18-a16e6c006a85>\u001b[0m in \u001b[0;36m<module>\u001b[0;34m\u001b[0m\n\u001b[1;32m     29\u001b[0m \u001b[0;34m\u001b[0m\u001b[0m\n\u001b[1;32m     30\u001b[0m \u001b[0;32mif\u001b[0m \u001b[0m__name__\u001b[0m\u001b[0;34m==\u001b[0m\u001b[0;34m'__main__'\u001b[0m\u001b[0;34m:\u001b[0m\u001b[0;34m\u001b[0m\u001b[0m\n\u001b[0;32m---> 31\u001b[0;31m     \u001b[0mmain\u001b[0m\u001b[0;34m(\u001b[0m\u001b[0;34m)\u001b[0m\u001b[0;34m\u001b[0m\u001b[0m\n\u001b[0m",
      "\u001b[0;32m<ipython-input-18-a16e6c006a85>\u001b[0m in \u001b[0;36mmain\u001b[0;34m()\u001b[0m\n\u001b[1;32m     25\u001b[0m                 \u001b[0mcnt\u001b[0m\u001b[0;34m=\u001b[0m\u001b[0;36m0\u001b[0m\u001b[0;34m\u001b[0m\u001b[0m\n\u001b[1;32m     26\u001b[0m                 \u001b[0moutfilenumber\u001b[0m\u001b[0;34m=\u001b[0m \u001b[0moutfilenumber\u001b[0m\u001b[0;34m+\u001b[0m\u001b[0;36m1\u001b[0m\u001b[0;34m\u001b[0m\u001b[0m\n\u001b[0;32m---> 27\u001b[0;31m                 \u001b[0mtime\u001b[0m\u001b[0;34m.\u001b[0m\u001b[0msleep\u001b[0m\u001b[0;34m(\u001b[0m\u001b[0;36m5\u001b[0m\u001b[0;34m)\u001b[0m\u001b[0;34m\u001b[0m\u001b[0m\n\u001b[0m\u001b[1;32m     28\u001b[0m \u001b[0;34m\u001b[0m\u001b[0m\n\u001b[1;32m     29\u001b[0m \u001b[0;34m\u001b[0m\u001b[0m\n",
      "\u001b[0;31mKeyboardInterrupt\u001b[0m: "
     ]
    }
   ],
   "source": [
    "\n",
    "import sys\n",
    "import time\n",
    "import os\n",
    "\n",
    "def main():\n",
    "    inpath='/usr/local/hadoop/2018-11-20.csv'\n",
    "    outpath='/usr/local/hadoop/streaming/'\n",
    "\n",
    "    outfilenumber=1\n",
    "\n",
    "    with open(inpath) as fp:\n",
    "        cnt=0\n",
    "\n",
    "        for line in fp:\n",
    "            \n",
    "            filename=str(outpath)+'log'+str(outfilenumber)\n",
    "            \n",
    "            with open(filename,'a') as fw:\n",
    "                \n",
    "                fw.write(line)\n",
    "                cnt=cnt+1\n",
    "\n",
    "            if cnt==1000:\n",
    "                cnt=0\n",
    "                outfilenumber= outfilenumber+1\n",
    "                time.sleep(5)\n",
    "          \n",
    "\n",
    "if __name__=='__main__':\n",
    "    main()\n"
   ]
  },
  {
   "cell_type": "code",
   "execution_count": null,
   "metadata": {},
   "outputs": [],
   "source": []
  }
 ],
 "metadata": {
  "kernelspec": {
   "display_name": "Python 3",
   "language": "python",
   "name": "python3"
  },
  "language_info": {
   "codemirror_mode": {
    "name": "ipython",
    "version": 3
   },
   "file_extension": ".py",
   "mimetype": "text/x-python",
   "name": "python",
   "nbconvert_exporter": "python",
   "pygments_lexer": "ipython3",
   "version": "3.5.6"
  }
 },
 "nbformat": 4,
 "nbformat_minor": 2
}
